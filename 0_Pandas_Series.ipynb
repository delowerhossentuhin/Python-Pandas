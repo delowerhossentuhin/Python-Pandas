{
 "cells": [
  {
   "cell_type": "code",
   "execution_count": 1,
   "id": "ca7545ea-2c08-43da-9cc6-b61186cfde98",
   "metadata": {},
   "outputs": [],
   "source": [
    "import pandas as pd"
   ]
  },
  {
   "cell_type": "code",
   "execution_count": 7,
   "id": "4b54f359-1a6e-48b3-9065-4e16f66a29da",
   "metadata": {},
   "outputs": [
    {
     "name": "stdout",
     "output_type": "stream",
     "text": [
      "[2, 4, 6, 7, 9, 1]\n"
     ]
    }
   ],
   "source": [
    "list=[2,4,6,7,9,1]\n",
    "list"
   ]
  },
  {
   "cell_type": "code",
   "execution_count": null,
   "id": "b927d4e0-cc6a-4c93-800f-0086f4b5fa82",
   "metadata": {},
   "outputs": [],
   "source": [
    "# pandas series is look like a table column - one dimensonal array holding holding any types of data"
   ]
  },
  {
   "cell_type": "code",
   "execution_count": 10,
   "id": "361565fe-10e1-4b05-85c0-af98524ed293",
   "metadata": {},
   "outputs": [
    {
     "data": {
      "text/plain": [
       "0    2\n",
       "1    4\n",
       "2    6\n",
       "3    7\n",
       "4    9\n",
       "5    1\n",
       "dtype: int64"
      ]
     },
     "execution_count": 10,
     "metadata": {},
     "output_type": "execute_result"
    }
   ],
   "source": [
    "pandas_Series=pd.Series(list)\n",
    "pandas_Series"
   ]
  },
  {
   "cell_type": "code",
   "execution_count": null,
   "id": "93060b83-d18a-4bd6-b044-d5056f4a4dd7",
   "metadata": {},
   "outputs": [],
   "source": [
    "# Printing Specific index value"
   ]
  },
  {
   "cell_type": "code",
   "execution_count": 12,
   "id": "ee329cce-7d07-42d4-9b27-3c1d6dcd1bf0",
   "metadata": {},
   "outputs": [
    {
     "name": "stdout",
     "output_type": "stream",
     "text": [
      "7\n"
     ]
    }
   ],
   "source": [
    "print(pandas_Series[3])"
   ]
  },
  {
   "cell_type": "code",
   "execution_count": null,
   "id": "dd2b0f84-ef70-4705-8b0a-2b87376b0260",
   "metadata": {},
   "outputs": [],
   "source": [
    "# label using index argument"
   ]
  },
  {
   "cell_type": "code",
   "execution_count": 33,
   "id": "a3b72858-23d4-4b32-a746-9c75557a8255",
   "metadata": {},
   "outputs": [],
   "source": [
    "pandas_Series2=pd.Series(data=[12,3.3,\"44\",55,\"C\"],index=[\"A\",\"B\",\"C\",\"D\",'E'])"
   ]
  },
  {
   "cell_type": "code",
   "execution_count": 35,
   "id": "fc81b2c7-2991-4734-b34f-1a720a0b49bd",
   "metadata": {},
   "outputs": [
    {
     "data": {
      "text/plain": [
       "A     12\n",
       "B    3.3\n",
       "C     44\n",
       "D     55\n",
       "E      C\n",
       "dtype: object"
      ]
     },
     "execution_count": 35,
     "metadata": {},
     "output_type": "execute_result"
    }
   ],
   "source": [
    "pandas_Series2"
   ]
  },
  {
   "cell_type": "code",
   "execution_count": 38,
   "id": "1777c4ed-d85a-420b-a7e2-075e060484d2",
   "metadata": {},
   "outputs": [
    {
     "data": {
      "text/plain": [
       "'44'"
      ]
     },
     "execution_count": 38,
     "metadata": {},
     "output_type": "execute_result"
    }
   ],
   "source": [
    "pandas_Series2[\"C\"]"
   ]
  },
  {
   "cell_type": "code",
   "execution_count": 83,
   "id": "9ba0721d-f11c-4bc7-8bc4-fa33b9f2e27f",
   "metadata": {},
   "outputs": [
    {
     "data": {
      "text/plain": [
       "'C'"
      ]
     },
     "execution_count": 83,
     "metadata": {},
     "output_type": "execute_result"
    }
   ],
   "source": [
    "pandas_Series2[\"E\"]\n",
    "pandas_Series2.iloc[4] "
   ]
  },
  {
   "cell_type": "code",
   "execution_count": null,
   "id": "c5012999-e6a8-4046-998f-2076c2d6969a",
   "metadata": {},
   "outputs": [],
   "source": [
    "# Key Value Dictonaries"
   ]
  },
  {
   "cell_type": "code",
   "execution_count": 87,
   "id": "f8e4c506-8375-4e10-a967-7b59df102fb1",
   "metadata": {},
   "outputs": [],
   "source": [
    "cars={\"Tesla\":334,\"BMW\":555,\"Toyota\":777,\"Mercedes\":000}"
   ]
  },
  {
   "cell_type": "code",
   "execution_count": 89,
   "id": "fd3c50d8-7cc3-4d27-97e2-e70302be21cc",
   "metadata": {},
   "outputs": [],
   "source": [
    "pandas_Cars=pd.Series(cars)\n",
    "pandas_Cars"
   ]
  },
  {
   "cell_type": "code",
   "execution_count": 91,
   "id": "a59d51d3-081f-4cd9-8282-ad5e785b832f",
   "metadata": {},
   "outputs": [
    {
     "data": {
      "text/plain": [
       "555"
      ]
     },
     "execution_count": 91,
     "metadata": {},
     "output_type": "execute_result"
    }
   ],
   "source": [
    "pandas_Cars[\"BMW\"]"
   ]
  },
  {
   "cell_type": "code",
   "execution_count": null,
   "id": "558a14bc-3684-40a7-8ff7-2170304a0e70",
   "metadata": {},
   "outputs": [],
   "source": []
  }
 ],
 "metadata": {
  "kernelspec": {
   "display_name": "Python 3 (ipykernel)",
   "language": "python",
   "name": "python3"
  },
  "language_info": {
   "codemirror_mode": {
    "name": "ipython",
    "version": 3
   },
   "file_extension": ".py",
   "mimetype": "text/x-python",
   "name": "python",
   "nbconvert_exporter": "python",
   "pygments_lexer": "ipython3",
   "version": "3.12.4"
  }
 },
 "nbformat": 4,
 "nbformat_minor": 5
}
